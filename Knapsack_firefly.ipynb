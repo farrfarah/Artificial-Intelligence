{
  "nbformat": 4,
  "nbformat_minor": 0,
  "metadata": {
    "colab": {
      "provenance": []
    },
    "kernelspec": {
      "name": "python3",
      "display_name": "Python 3"
    },
    "language_info": {
      "name": "python"
    }
  },
  "cells": [
    {
      "cell_type": "markdown",
      "source": [
        "#SWARM INTELLIGENCE RA\n",
        "---------------------------\n",
        "Nama : Farah Faizah\\\n",
        "NIM : 121450002"
      ],
      "metadata": {
        "id": "5QNMbt9iWjU5"
      }
    },
    {
      "cell_type": "code",
      "source": [
        "import numpy as np\n",
        "import random\n",
        "\n",
        "def obj(solusi, profit, berat, kapasitas):\n",
        "    profit = np.dot(solusi, profit)\n",
        "    berat = np.dot(solusi, berat)\n",
        "    for i in range(len(profit)):\n",
        "        if berat[i, 0] > kapasitas[i, 0]:\n",
        "            profit[i, 0] = 0\n",
        "    return profit\n",
        "\n",
        "def weights(solusi, profit, berat, kapasitas):\n",
        "    profit = np.dot(solusi, profit)\n",
        "    berat = np.dot(solusi, berat)\n",
        "    for i in range(len(profit)):\n",
        "        if berat[i, 0] > kapasitas[i, 0]:\n",
        "            profit[i, 0] = 0\n",
        "    return berat\n",
        "\n",
        "def sol(solusi, profit, berat, kapasitas):\n",
        "    return solusi\n",
        "\n",
        "def firefly_knp(profit, berat, kapasitas, a, b, gamma, generasi, firefly):\n",
        "    if berat.shape == profit.shape:\n",
        "        parameter = len(berat)\n",
        "        kapasitas = np.tile(kapasitas, (firefly, 1))\n",
        "        hasil_per_generasi = []\n",
        "        for gen in range(1, generasi + 1):\n",
        "            if gen == 1:\n",
        "                np.random.seed(213212312)\n",
        "                solusi = np.random.choice([0, 1], size=(firefly, parameter), replace=True)\n",
        "                objektifnya = obj(solusi, profit, berat, kapasitas)\n",
        "                weightsnya = weights(solusi, profit, berat, kapasitas)\n",
        "                solusinya = sol(solusi, profit, berat, kapasitas)\n",
        "            for i in range(firefly):\n",
        "                for j in range(firefly):\n",
        "                    if objektifnya[i, 0] < objektifnya[j, 0]:\n",
        "                        d = np.sqrt(np.sum((solusinya[j, :] - solusinya[i, :]) ** 2))\n",
        "                        calon = np.round(((solusinya[i, :]) + (a * (solusinya[j, 0] - solusinya[i, 0])) +\n",
        "                                          np.transpose((b * np.exp(-d * gamma) * np.random.rand(firefly, 1)))) % 2)\n",
        "                        solusinya[i, :] = calon\n",
        "                    else:\n",
        "                        solusinya[i, :] = solusinya[i, :]\n",
        "            w = weightsnya[np.argmax(objektifnya), 0]\n",
        "            p = objektifnya[np.argmax(objektifnya), 0]\n",
        "            s = solusinya[np.argmax(objektifnya), :]\n",
        "            hasil_terbaik = {'W': w, 'P': p, 'S': s.tolist(), 'Iterasi': gen}\n",
        "            hasil_per_generasi.append(hasil_terbaik)\n",
        "\n",
        "            # Menampilkan hasil per generasi dengan format yang lebih baik\n",
        "            print(f\"Iterasi {gen}:\")\n",
        "            print(f\"  - Berat Terbaik: {hasil_terbaik['W']}\")\n",
        "            print(f\"  - Profit Terbaik: {hasil_terbaik['P']}\")\n",
        "            print(f\"  - Solusi Terbaik: {hasil_terbaik['S']}\")\n",
        "            print()\n",
        "\n",
        "        return hasil_per_generasi\n",
        "    else:\n",
        "        return \"Banyaknya profit yang ada harus sama dengan banyaknya berat yang ada\"\n",
        "\n"
      ],
      "metadata": {
        "id": "5RvIeOixDeq8"
      },
      "execution_count": 26,
      "outputs": []
    },
    {
      "cell_type": "markdown",
      "source": [
        "#Simulasi 1"
      ],
      "metadata": {
        "id": "7I-Pf0IDFlBq"
      }
    },
    {
      "cell_type": "code",
      "source": [
        "profit = np.array([[10], [12], [8], [6], [4], [5]])\n",
        "berat = np.array([[5], [7], [4], [3], [2], [2]])\n",
        "kapasitas = 22\n",
        "a = 0.6\n",
        "b = 1\n",
        "gamma = 0.2\n",
        "generasi = 2\n",
        "firefly = 6\n",
        "\n",
        "hasil_per_generasi = firefly_knp(profit, berat, kapasitas, a, b, gamma, generasi, firefly)\n",
        "\n",
        "print(\"Hasil Algoritma Firefly Knapsack:\")\n",
        "print(\"----------------------------------\")\n",
        "print()\n",
        "print(\"Hasil Per Generasi:\")\n",
        "for idx, hasil_generasi in enumerate(hasil_per_generasi, start=1):\n",
        "    print(f\"Generasi {idx}:\")\n",
        "    print(f\"  - Berat Terbaik: {hasil_generasi['W']}\")\n",
        "    print(f\"  - Profit Terbaik: {hasil_generasi['P']}\")\n",
        "    print(f\"  - Solusi Terbaik: {hasil_generasi['S']}\")\n",
        "    print()\n"
      ],
      "metadata": {
        "colab": {
          "base_uri": "https://localhost:8080/"
        },
        "id": "93q5FRXYGdW-",
        "outputId": "90fd72cc-2c27-4eff-9fe2-f9ecbfe69830"
      },
      "execution_count": 27,
      "outputs": [
        {
          "output_type": "stream",
          "name": "stdout",
          "text": [
            "Iterasi 1:\n",
            "  - Berat Terbaik: 18\n",
            "  - Profit Terbaik: 34\n",
            "  - Solusi Terbaik: [1, 1, 1, 0, 1, 0]\n",
            "\n",
            "Iterasi 2:\n",
            "  - Berat Terbaik: 18\n",
            "  - Profit Terbaik: 34\n",
            "  - Solusi Terbaik: [1, 1, 1, 0, 1, 0]\n",
            "\n",
            "Hasil Algoritma Firefly Knapsack:\n",
            "----------------------------------\n",
            "\n",
            "Hasil Per Generasi:\n",
            "Generasi 1:\n",
            "  - Berat Terbaik: 18\n",
            "  - Profit Terbaik: 34\n",
            "  - Solusi Terbaik: [1, 1, 1, 0, 1, 0]\n",
            "\n",
            "Generasi 2:\n",
            "  - Berat Terbaik: 18\n",
            "  - Profit Terbaik: 34\n",
            "  - Solusi Terbaik: [1, 1, 1, 0, 1, 0]\n",
            "\n"
          ]
        }
      ]
    },
    {
      "cell_type": "markdown",
      "source": [
        "#Simulasi 2"
      ],
      "metadata": {
        "id": "AyzRbLSWIgAd"
      }
    },
    {
      "cell_type": "code",
      "source": [
        "profit = np.array([[120], [150], [200], [100], [80]])\n",
        "berat = np.array([[4], [5], [6], [3], [2]])\n",
        "kapasitas = 12\n",
        "a = 0.5\n",
        "b = 1\n",
        "gamma = 0.2\n",
        "generasi = 2\n",
        "firefly = 5\n",
        "\n",
        "hasil_per_generasi = firefly_knp(profit, berat, kapasitas, a, b, gamma, generasi, firefly)\n",
        "\n",
        "print(\"Hasil Algoritma Firefly Knapsack:\")\n",
        "print(\"----------------------------------\")\n",
        "print()\n",
        "print(\"Hasil Per Generasi:\")\n",
        "for idx, hasil_generasi in enumerate(hasil_per_generasi, start=1):\n",
        "    print(f\"Generasi {idx}:\")\n",
        "    print(f\"  - Berat Terbaik: {hasil_generasi['W']}\")\n",
        "    print(f\"  - Profit Terbaik: {hasil_generasi['P']}\")\n",
        "    print(f\"  - Solusi Terbaik: {hasil_generasi['S']}\")\n",
        "    print()\n"
      ],
      "metadata": {
        "colab": {
          "base_uri": "https://localhost:8080/"
        },
        "id": "SyGeURNkIjyl",
        "outputId": "08745c73-a789-47b2-f8df-341565c97654"
      },
      "execution_count": 28,
      "outputs": [
        {
          "output_type": "stream",
          "name": "stdout",
          "text": [
            "Iterasi 1:\n",
            "  - Berat Terbaik: 11\n",
            "  - Profit Terbaik: 380\n",
            "  - Solusi Terbaik: [0, 0, 1, 1, 1]\n",
            "\n",
            "Iterasi 2:\n",
            "  - Berat Terbaik: 11\n",
            "  - Profit Terbaik: 380\n",
            "  - Solusi Terbaik: [0, 0, 1, 1, 1]\n",
            "\n",
            "Hasil Algoritma Firefly Knapsack:\n",
            "----------------------------------\n",
            "\n",
            "Hasil Per Generasi:\n",
            "Generasi 1:\n",
            "  - Berat Terbaik: 11\n",
            "  - Profit Terbaik: 380\n",
            "  - Solusi Terbaik: [0, 0, 1, 1, 1]\n",
            "\n",
            "Generasi 2:\n",
            "  - Berat Terbaik: 11\n",
            "  - Profit Terbaik: 380\n",
            "  - Solusi Terbaik: [0, 0, 1, 1, 1]\n",
            "\n"
          ]
        }
      ]
    }
  ]
}